{
 "cells": [
  {
   "cell_type": "code",
   "execution_count": 8,
   "id": "f93444a4-17a0-410a-bca7-90adabf9bea8",
   "metadata": {},
   "outputs": [
    {
     "data": {
      "text/plain": [
       "'Create a 2D matrix: Initialize a matrix dp of size (m+1) x (n+1), where m is the length of word1 and n is the length of word2.\\n\\n'"
      ]
     },
     "execution_count": 8,
     "metadata": {},
     "output_type": "execute_result"
    }
   ],
   "source": [
    "'''Create a 2D matrix: Initialize a matrix dp of size (m+1) x (n+1), where m is the length of word1 and n is the length of word2.\n",
    "\n",
    "'''"
   ]
  },
  {
   "cell_type": "code",
   "execution_count": 7,
   "id": "81e2d32a-ce68-4c8d-8c4f-988e74192594",
   "metadata": {},
   "outputs": [
    {
     "data": {
      "text/plain": [
       "'Base cases:\\ndp[0][j] = j for 0 <= j <= n: Converting an empty string to a string of length j requires j insertions.\\ndp[i][0] = i for 0 <= i <= m: Converting a string of length i to an empty string requires i deletions.\\n\\n'"
      ]
     },
     "execution_count": 7,
     "metadata": {},
     "output_type": "execute_result"
    }
   ],
   "source": [
    "'''Base cases:\n",
    "dp[0][j] = j for 0 <= j <= n: Converting an empty string to a string of length j requires j insertions.\n",
    "dp[i][0] = i for 0 <= i <= m: Converting a string of length i to an empty string requires i deletions.\n",
    "\n",
    "'''"
   ]
  },
  {
   "cell_type": "code",
   "execution_count": 6,
   "id": "5f20ac2d-8583-4759-a6da-af307140370b",
   "metadata": {},
   "outputs": [
    {
     "data": {
      "text/plain": [
       "'Fill the matrix: Iterate through the matrix and calculate the minimum number of operations for each substring.\\nIf the characters at i and j are the same, the minimum operations is the same as the minimum operations for the substrings up to i-1 and j-1.\\nOtherwise, the minimum operations is the minimum of the following three cases:\\nInsert a character: dp[i][j-1] + 1\\nDelete a character: dp[i-1][j] + 1\\nReplace a character: dp[i-1][j-1] + 1\\n\\n'"
      ]
     },
     "execution_count": 6,
     "metadata": {},
     "output_type": "execute_result"
    }
   ],
   "source": [
    "'''Fill the matrix: Iterate through the matrix and calculate the minimum number of operations for each substring.\n",
    "If the characters at i and j are the same, the minimum operations is the same as the minimum operations for the substrings up to i-1 and j-1.\n",
    "Otherwise, the minimum operations is the minimum of the following three cases:\n",
    "Insert a character: dp[i][j-1] + 1\n",
    "Delete a character: dp[i-1][j] + 1\n",
    "Replace a character: dp[i-1][j-1] + 1\n",
    "\n",
    "'''"
   ]
  },
  {
   "cell_type": "code",
   "execution_count": 5,
   "id": "62114c9a-6bef-4e10-83a5-fdc7f693145f",
   "metadata": {},
   "outputs": [
    {
     "data": {
      "text/plain": [
       "'Return the final value: The minimum number of operations is stored in dp[m][n].\\nPython Implementation\\n``\\ndef minDistance(word1, word2):\\nm, n = len(word1), len(word2)\\ndp = [[0] * (n + 1) for _ in range(m + 1)] '"
      ]
     },
     "execution_count": 5,
     "metadata": {},
     "output_type": "execute_result"
    }
   ],
   "source": [
    "'''Return the final value: The minimum number of operations is stored in dp[m][n].\n",
    "Python Implementation\n",
    "``\n",
    "def minDistance(word1, word2):\n",
    "m, n = len(word1), len(word2)\n",
    "dp = [[0] * (n + 1) for _ in range(m + 1)] '''"
   ]
  },
  {
   "cell_type": "code",
   "execution_count": null,
   "id": "c8958695-b798-40f3-b63f-115f63f8b0b9",
   "metadata": {},
   "outputs": [],
   "source": []
  }
 ],
 "metadata": {
  "kernelspec": {
   "display_name": "Python 3 (ipykernel)",
   "language": "python",
   "name": "python3"
  },
  "language_info": {
   "codemirror_mode": {
    "name": "ipython",
    "version": 3
   },
   "file_extension": ".py",
   "mimetype": "text/x-python",
   "name": "python",
   "nbconvert_exporter": "python",
   "pygments_lexer": "ipython3",
   "version": "3.12.4"
  }
 },
 "nbformat": 4,
 "nbformat_minor": 5
}
